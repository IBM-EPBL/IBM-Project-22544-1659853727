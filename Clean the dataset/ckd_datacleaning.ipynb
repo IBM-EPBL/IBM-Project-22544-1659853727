{
  "nbformat": 4,
  "nbformat_minor": 0,
  "metadata": {
    "colab": {
      "provenance": []
    },
    "kernelspec": {
      "name": "python3",
      "display_name": "Python 3"
    },
    "language_info": {
      "name": "python"
    }
  },
  "cells": [
    {
      "cell_type": "code",
      "execution_count": null,
      "metadata": {
        "id": "xPNJ4W3f4bXO"
      },
      "outputs": [],
      "source": [
        "#import libraries\n",
        "import numpy as np\n",
        "import pandas as pd\n",
        "import matplotlib.pyplot as plt\n",
        "import seaborn as sns\n",
        "\n",
        "from sklearn.model_selection import train_test_split\n",
        "from sklearn.feature_selection import RFE\n",
        "from sklearn.preprocessing import LabelEncoder\n",
        "\n",
        "#classification algorithms\n",
        "from sklearn.linear_model import LogisticRegression\n",
        "from sklearn.svm import SVC\n",
        "from sklearn.naive_bayes import GaussianNB\n",
        "from sklearn.naive_bayes import MultinomialNB\n",
        "from sklearn.linear_model import SGDClassifier\n",
        "from sklearn.neighbors import KNeighborsClassifier\n",
        "from sklearn.tree import DecisionTreeClassifier\n",
        "from sklearn.ensemble import RandomForestClassifier\n",
        "from sklearn.ensemble import GradientBoostingClassifier\n",
        "from lightgbm import LGBMClassifier\n",
        "from xgboost import XGBClassifier\n",
        "from sklearn.ensemble import AdaBoostClassifier\n",
        "\n",
        "\n",
        "#Evaluation metrics\n",
        "from sklearn.metrics import accuracy_score\n",
        "from sklearn.metrics import classification_report\n",
        "from sklearn.metrics import confusion_matrix\n",
        "from sklearn.metrics import confusion_matrix, ConfusionMatrixDisplay"
      ]
    },
    {
      "cell_type": "code",
      "source": [
        "#Read the dataset\n",
        "\n",
        "data = pd.read_csv(\"kidney_disease.csv\")\n",
        "data.drop([\"id\"], axis=1, inplace=True)\n",
        "data = pd.DataFrame(data = data)"
      ],
      "metadata": {
        "id": "95CWaFa-4uaK"
      },
      "execution_count": null,
      "outputs": []
    },
    {
      "cell_type": "code",
      "source": [
        "data.columns = [\"age\", \"blood_pressure\", \"specific_gravity\", \"albumin\", \"sugar\", \"red_blood_cells\", \"pus_cell\", \"pus_cell_chumps\", \"bacteria\", \"blood_glucose_random\", \"blood_urea\", \"serum_creatinine\", \"sodium\", \"potassium\", \"hemoglobin\", \"packed_cell_volume\", \"white_blood_cell_count\", \"red_blood_cell_count\", \"hypertension\", \"diabetesmellitus\", \"coronary_artery_disease\", \"appetite\", \"pedal_edema\", \"anemia\", \"class\"]\n",
        "print(data.columns)"
      ],
      "metadata": {
        "colab": {
          "base_uri": "https://localhost:8080/"
        },
        "id": "Cotp9SnAxWiV",
        "outputId": "0193b02b-6ef6-41d3-bd46-bd00bf444115"
      },
      "execution_count": null,
      "outputs": [
        {
          "output_type": "stream",
          "name": "stdout",
          "text": [
            "Index(['age', 'blood_pressure', 'specific_gravity', 'albumin', 'sugar',\n",
            "       'red_blood_cells', 'pus_cell', 'pus_cell_chumps', 'bacteria',\n",
            "       'blood_glucose_random', 'blood_urea', 'serum_creatinine', 'sodium',\n",
            "       'potassium', 'hemoglobin', 'packed_cell_volume',\n",
            "       'white_blood_cell_count', 'red_blood_cell_count', 'hypertension',\n",
            "       'diabetesmellitus', 'coronary_artery_disease', 'appetite',\n",
            "       'pedal_edema', 'anemia', 'class'],\n",
            "      dtype='object')\n"
          ]
        }
      ]
    },
    {
      "cell_type": "code",
      "source": [
        "#Understanding data type and summary of features\n",
        "\n",
        "print(f\"Kidney dataset has {data.shape[0]} rows and {data.shape[1]} columns.\")"
      ],
      "metadata": {
        "colab": {
          "base_uri": "https://localhost:8080/"
        },
        "id": "Eu0R5y25xbE2",
        "outputId": "e1dd4adb-3055-44e6-bccd-6cb06fc48f5b"
      },
      "execution_count": null,
      "outputs": [
        {
          "output_type": "stream",
          "name": "stdout",
          "text": [
            "Kidney dataset has 400 rows and 25 columns.\n"
          ]
        }
      ]
    },
    {
      "cell_type": "code",
      "source": [
        "data.info()"
      ],
      "metadata": {
        "colab": {
          "base_uri": "https://localhost:8080/"
        },
        "id": "BwIC-V0rxgyG",
        "outputId": "0160e982-20da-4e90-ede7-8d45de8e8cb4"
      },
      "execution_count": null,
      "outputs": [
        {
          "output_type": "stream",
          "name": "stdout",
          "text": [
            "<class 'pandas.core.frame.DataFrame'>\n",
            "RangeIndex: 400 entries, 0 to 399\n",
            "Data columns (total 25 columns):\n",
            " #   Column                   Non-Null Count  Dtype  \n",
            "---  ------                   --------------  -----  \n",
            " 0   age                      391 non-null    float64\n",
            " 1   blood_pressure           388 non-null    float64\n",
            " 2   specific_gravity         353 non-null    float64\n",
            " 3   albumin                  354 non-null    float64\n",
            " 4   sugar                    351 non-null    float64\n",
            " 5   red_blood_cells          248 non-null    object \n",
            " 6   pus_cell                 335 non-null    object \n",
            " 7   pus_cell_chumps          396 non-null    object \n",
            " 8   bacteria                 396 non-null    object \n",
            " 9   blood_glucose_random     356 non-null    float64\n",
            " 10  blood_urea               381 non-null    float64\n",
            " 11  serum_creatinine         383 non-null    float64\n",
            " 12  sodium                   313 non-null    float64\n",
            " 13  potassium                312 non-null    float64\n",
            " 14  hemoglobin               348 non-null    float64\n",
            " 15  packed_cell_volume       330 non-null    object \n",
            " 16  white_blood_cell_count   295 non-null    object \n",
            " 17  red_blood_cell_count     270 non-null    object \n",
            " 18  hypertension             398 non-null    object \n",
            " 19  diabetesmellitus         398 non-null    object \n",
            " 20  coronary_artery_disease  398 non-null    object \n",
            " 21  appetite                 399 non-null    object \n",
            " 22  pedal_edema              399 non-null    object \n",
            " 23  anemia                   399 non-null    object \n",
            " 24  class                    400 non-null    object \n",
            "dtypes: float64(11), object(14)\n",
            "memory usage: 78.2+ KB\n"
          ]
        }
      ]
    },
    {
      "cell_type": "code",
      "source": [
        "cat_cols = [col for col in data.columns if data[col].dtype == 'object']\n",
        "num_cols = [col for col in data.columns if data[col].dtype != 'object']\n",
        "print(f\"categorical columns : {cat_cols}, count : {len(cat_cols)}\")\n",
        "print(f\"numerical columns : {num_cols} count : {len(num_cols)}\")"
      ],
      "metadata": {
        "colab": {
          "base_uri": "https://localhost:8080/"
        },
        "id": "vbeWYMs5xg1O",
        "outputId": "ad7f6301-cef9-4395-89fb-d02f3680f0fd"
      },
      "execution_count": null,
      "outputs": [
        {
          "output_type": "stream",
          "name": "stdout",
          "text": [
            "categorical columns : ['red_blood_cells', 'pus_cell', 'pus_cell_chumps', 'bacteria', 'packed_cell_volume', 'white_blood_cell_count', 'red_blood_cell_count', 'hypertension', 'diabetesmellitus', 'coronary_artery_disease', 'appetite', 'pedal_edema', 'anemia', 'class'], count : 14\n",
            "numerical columns : ['age', 'blood_pressure', 'specific_gravity', 'albumin', 'sugar', 'blood_glucose_random', 'blood_urea', 'serum_creatinine', 'sodium', 'potassium', 'hemoglobin'] count : 11\n"
          ]
        }
      ]
    },
    {
      "cell_type": "code",
      "source": [
        "for i in cat_cols:\n",
        "  print(i ,\":\" ,data[i].unique())"
      ],
      "metadata": {
        "colab": {
          "base_uri": "https://localhost:8080/"
        },
        "id": "3LlkPcWtxg4P",
        "outputId": "ba84b380-f5cc-4590-891f-9274304b5355"
      },
      "execution_count": null,
      "outputs": [
        {
          "output_type": "stream",
          "name": "stdout",
          "text": [
            "red_blood_cells : [nan 'normal' 'abnormal']\n",
            "pus_cell : ['normal' 'abnormal' nan]\n",
            "pus_cell_chumps : ['notpresent' 'present' nan]\n",
            "bacteria : ['notpresent' 'present' nan]\n",
            "packed_cell_volume : ['44' '38' '31' '32' '35' '39' '36' '33' '29' '28' nan '16' '24' '37' '30'\n",
            " '34' '40' '45' '27' '48' '\\t?' '52' '14' '22' '18' '42' '17' '46' '23'\n",
            " '19' '25' '41' '26' '15' '21' '43' '20' '\\t43' '47' '9' '49' '50' '53'\n",
            " '51' '54']\n",
            "white_blood_cell_count : ['7800' '6000' '7500' '6700' '7300' nan '6900' '9600' '12100' '4500'\n",
            " '12200' '11000' '3800' '11400' '5300' '9200' '6200' '8300' '8400' '10300'\n",
            " '9800' '9100' '7900' '6400' '8600' '18900' '21600' '4300' '8500' '11300'\n",
            " '7200' '7700' '14600' '6300' '\\t6200' '7100' '11800' '9400' '5500' '5800'\n",
            " '13200' '12500' '5600' '7000' '11900' '10400' '10700' '12700' '6800'\n",
            " '6500' '13600' '10200' '9000' '14900' '8200' '15200' '5000' '16300'\n",
            " '12400' '\\t8400' '10500' '4200' '4700' '10900' '8100' '9500' '2200'\n",
            " '12800' '11200' '19100' '\\t?' '12300' '16700' '2600' '26400' '8800'\n",
            " '7400' '4900' '8000' '12000' '15700' '4100' '5700' '11500' '5400' '10800'\n",
            " '9900' '5200' '5900' '9300' '9700' '5100' '6600']\n",
            "red_blood_cell_count : ['5.2' nan '3.9' '4.6' '4.4' '5' '4.0' '3.7' '3.8' '3.4' '2.6' '2.8' '4.3'\n",
            " '3.2' '3.6' '4' '4.1' '4.9' '2.5' '4.2' '4.5' '3.1' '4.7' '3.5' '6.0'\n",
            " '5.0' '2.1' '5.6' '2.3' '2.9' '2.7' '8.0' '3.3' '3.0' '3' '2.4' '4.8'\n",
            " '\\t?' '5.4' '6.1' '6.2' '6.3' '5.1' '5.8' '5.5' '5.3' '6.4' '5.7' '5.9'\n",
            " '6.5']\n",
            "hypertension : ['yes' 'no' nan]\n",
            "diabetesmellitus : ['yes' 'no' ' yes' '\\tno' '\\tyes' nan]\n",
            "coronary_artery_disease : ['no' 'yes' '\\tno' nan]\n",
            "appetite : ['good' 'poor' nan]\n",
            "pedal_edema : ['no' 'yes' nan]\n",
            "anemia : ['no' 'yes' nan]\n",
            "class : ['ckd' 'ckd\\t' 'notckd']\n"
          ]
        }
      ]
    },
    {
      "cell_type": "code",
      "source": [
        "#Removing numeric columns \n",
        "\n",
        "cat_cols.remove(\"packed_cell_volume\")\n",
        "cat_cols.remove(\"white_blood_cell_count\")\n",
        "cat_cols.remove(\"red_blood_cell_count\")\n",
        "\n",
        "print(cat_cols)\n",
        "\n",
        "#adding these columns to num_cols\n",
        "\n",
        "num_cols.append(\"packed_cell_volume\")\n",
        "num_cols.append(\"white_blood_cell_count\")\n",
        "num_cols.append(\"red_blood_cell_count\")"
      ],
      "metadata": {
        "colab": {
          "base_uri": "https://localhost:8080/"
        },
        "id": "KxH_4zq7xg7D",
        "outputId": "243a2729-3daf-41d4-c966-97fdccfab977"
      },
      "execution_count": null,
      "outputs": [
        {
          "output_type": "stream",
          "name": "stdout",
          "text": [
            "['red_blood_cells', 'pus_cell', 'pus_cell_chumps', 'bacteria', 'hypertension', 'diabetesmellitus', 'coronary_artery_disease', 'appetite', 'pedal_edema', 'anemia', 'class']\n"
          ]
        }
      ]
    },
    {
      "cell_type": "code",
      "source": [
        "for i in num_cols:\n",
        "  print(i,\":\",len(data[i].unique()))"
      ],
      "metadata": {
        "colab": {
          "base_uri": "https://localhost:8080/"
        },
        "id": "DB9hMoDHxuFl",
        "outputId": "cc8c0fb4-2c8f-4efd-aa03-a10b4fbb1cca"
      },
      "execution_count": null,
      "outputs": [
        {
          "output_type": "stream",
          "name": "stdout",
          "text": [
            "age : 77\n",
            "blood_pressure : 11\n",
            "specific_gravity : 6\n",
            "albumin : 7\n",
            "sugar : 7\n",
            "blood_glucose_random : 147\n",
            "blood_urea : 119\n",
            "serum_creatinine : 85\n",
            "sodium : 35\n",
            "potassium : 41\n",
            "hemoglobin : 116\n",
            "packed_cell_volume : 45\n",
            "white_blood_cell_count : 93\n",
            "red_blood_cell_count : 50\n"
          ]
        }
      ]
    },
    {
      "cell_type": "code",
      "source": [
        "#numeric column distribution\n",
        "plt.figure(figsize = (20, 15))\n",
        "plotnumber = 1\n",
        "for column in num_cols:\n",
        "    if plotnumber <= 14:\n",
        "        ax = plt.subplot(3, 5, plotnumber)\n",
        "        sns.histplot (data[column],kde=True)\n",
        "        plt.xlabel(column)       \n",
        "    plotnumber += 1\n",
        "\n",
        "plt.tight_layout()\n",
        "plt.show()"
      ],
      "metadata": {
        "colab": {
          "base_uri": "https://localhost:8080/",
          "height": 614
        },
        "id": "g0g_Ga-gx6yu",
        "outputId": "6d01376a-a61d-4bfc-c83d-d0a305523fe4"
      },
      "execution_count": null,
      "outputs": [
        {
          "output_type": "stream",
          "name": "stderr",
          "text": [
            "/usr/local/lib/python3.7/dist-packages/matplotlib/backends/backend_agg.py:214: RuntimeWarning: Glyph 9 missing from current font.\n",
            "  font.set_text(s, 0.0, flags=flags)\n",
            "/usr/local/lib/python3.7/dist-packages/matplotlib/backends/backend_agg.py:183: RuntimeWarning: Glyph 9 missing from current font.\n",
            "  font.set_text(s, 0, flags=flags)\n"
          ]
        },
        {
          "output_type": "display_data",
          "data": {
            "text/plain": [
              "<Figure size 1440x1080 with 14 Axes>"
            ],
            "image/png": "[encoded data removed]"
          },
          "metadata": {
            "needs_background": "light"
          }
        }
      ]
    },
    {
      "cell_type": "code",
      "source": [
        "plt.figure(figsize = (20, 15))\n",
        "plotnumber = 1\n",
        "for column in cat_cols:\n",
        "    if plotnumber <= 11:\n",
        "        ax = plt.subplot(3, 4, plotnumber)\n",
        "        sns.countplot(x = data[column], palette=\"BrBG\")\n",
        "        plt.xlabel(column)\n",
        "        \n",
        "    plotnumber += 1\n",
        "\n",
        "plt.tight_layout()\n",
        "plt.show()"
      ],
      "metadata": {
        "colab": {
          "base_uri": "https://localhost:8080/",
          "height": 614
        },
        "id": "qyFk4DEZx-E9",
        "outputId": "68cd757d-c404-4e37-9959-0a66f0741ed6"
      },
      "execution_count": null,
      "outputs": [
        {
          "output_type": "stream",
          "name": "stderr",
          "text": [
            "/usr/local/lib/python3.7/dist-packages/matplotlib/backends/backend_agg.py:214: RuntimeWarning: Glyph 9 missing from current font.\n",
            "  font.set_text(s, 0.0, flags=flags)\n",
            "/usr/local/lib/python3.7/dist-packages/matplotlib/backends/backend_agg.py:183: RuntimeWarning: Glyph 9 missing from current font.\n",
            "  font.set_text(s, 0, flags=flags)\n"
          ]
        },
        {
          "output_type": "display_data",
          "data": {
            "text/plain": [
              "<Figure size 1440x1080 with 11 Axes>"
            ],
            "image/png": "[encoded data removed]"
          },
          "metadata": {
            "needs_background": "light"
          }
        }
      ]
    },
    {
      "cell_type": "code",
      "source": [
        "#replacing inconsistent values\n",
        "\n",
        "data['class'].replace(to_replace = {'ckd\\t':'ckd','notckd':'notckd','ckd':'ckd'},inplace=True)\n",
        "data['diabetesmellitus'].replace(to_replace = {'\\tno':'no','\\tyes':'yes',\" yes\" : \"yes\"},inplace=True)\n",
        "data['coronary_artery_disease'].replace(to_replace = {'\\tno':'no'},inplace=True)"
      ],
      "metadata": {
        "id": "KQXccEaJx-IU"
      },
      "execution_count": null,
      "outputs": []
    },
    {
      "cell_type": "code",
      "source": [
        "for i in cat_cols:\n",
        "  print(i,\":\",data[i].unique())"
      ],
      "metadata": {
        "colab": {
          "base_uri": "https://localhost:8080/"
        },
        "id": "ZQbAJrPXx-LW",
        "outputId": "8d72ed59-5cb6-46db-b20b-0ee67cdfc8a6"
      },
      "execution_count": null,
      "outputs": [
        {
          "output_type": "stream",
          "name": "stdout",
          "text": [
            "red_blood_cells : [nan 'normal' 'abnormal']\n",
            "pus_cell : ['normal' 'abnormal' nan]\n",
            "pus_cell_chumps : ['notpresent' 'present' nan]\n",
            "bacteria : ['notpresent' 'present' nan]\n",
            "hypertension : ['yes' 'no' nan]\n",
            "diabetesmellitus : ['yes' 'no' nan]\n",
            "coronary_artery_disease : ['no' 'yes' nan]\n",
            "appetite : ['good' 'poor' nan]\n",
            "pedal_edema : ['no' 'yes' nan]\n",
            "anemia : ['no' 'yes' nan]\n",
            "class : ['ckd' 'notckd']\n"
          ]
        }
      ]
    },
    {
      "cell_type": "code",
      "source": [
        "data['red_blood_cell_count'].replace(to_replace = {None:np.nan},inplace=True)\n",
        "data['white_blood_cell_count'].replace(to_replace = {\"\\t6200\":6200,\"\\t?\":np.nan,\"\\t8400\":8400},inplace=True)\n",
        "data['packed_cell_volume'].replace(to_replace = {\"\\t?\":np.nan,\"\\t43\" :43},inplace=True)"
      ],
      "metadata": {
        "id": "du1UP32ex-OV"
      },
      "execution_count": null,
      "outputs": []
    },
    {
      "cell_type": "code",
      "source": [
        "cat_cols = list(set(cat_cols))\n",
        "num_cols = list(set(num_cols))\n",
        "print(cat_cols)\n",
        "print(num_cols)"
      ],
      "metadata": {
        "colab": {
          "base_uri": "https://localhost:8080/"
        },
        "id": "FIpPp1jxydCm",
        "outputId": "557b2105-7cea-42ef-b3e5-8a8820fe941f"
      },
      "execution_count": null,
      "outputs": [
        {
          "output_type": "stream",
          "name": "stdout",
          "text": [
            "['anemia', 'class', 'coronary_artery_disease', 'appetite', 'diabetesmellitus', 'pus_cell', 'pedal_edema', 'bacteria', 'pus_cell_chumps', 'red_blood_cells', 'hypertension']\n",
            "['blood_pressure', 'blood_glucose_random', 'white_blood_cell_count', 'packed_cell_volume', 'age', 'specific_gravity', 'albumin', 'sugar', 'serum_creatinine', 'potassium', 'hemoglobin', 'red_blood_cell_count', 'sodium', 'blood_urea']\n"
          ]
        }
      ]
    },
    {
      "cell_type": "code",
      "source": [
        "data[\"red_blood_cell_count\"] = pd.to_numeric(data.red_blood_cell_count,errors=\"coerce\")\n",
        "data[\"packed_cell_volume\"] = pd.to_numeric(data.packed_cell_volume,errors=\"coerce\")\n",
        "data[\"white_blood_cell_count\"] = pd.to_numeric(data.white_blood_cell_count,errors=\"coerce\")"
      ],
      "metadata": {
        "id": "CigqtgT3yqrs"
      },
      "execution_count": null,
      "outputs": []
    },
    {
      "cell_type": "code",
      "source": [
        "for i in num_cols:\n",
        "  print(i,\":\",data[i].dtype)"
      ],
      "metadata": {
        "colab": {
          "base_uri": "https://localhost:8080/"
        },
        "id": "zSLXNxrdydPM",
        "outputId": "e986c07b-aed6-4075-fdcb-354ae929f452"
      },
      "execution_count": null,
      "outputs": [
        {
          "output_type": "stream",
          "name": "stdout",
          "text": [
            "blood_pressure : float64\n",
            "blood_glucose_random : float64\n",
            "white_blood_cell_count : float64\n",
            "packed_cell_volume : float64\n",
            "age : float64\n",
            "specific_gravity : float64\n",
            "albumin : float64\n",
            "sugar : float64\n",
            "serum_creatinine : float64\n",
            "potassium : float64\n",
            "hemoglobin : float64\n",
            "red_blood_cell_count : float64\n",
            "sodium : float64\n",
            "blood_urea : float64\n"
          ]
        }
      ]
    },
    {
      "cell_type": "code",
      "source": [
        "#Handling missing values\n",
        "\n",
        "data.isnull().sum()"
      ],
      "metadata": {
        "colab": {
          "base_uri": "https://localhost:8080/"
        },
        "id": "aCgdtMVZydZ8",
        "outputId": "27941e6e-c991-4d22-d775-79c69f99039f"
      },
      "execution_count": null,
      "outputs": [
        {
          "output_type": "execute_result",
          "data": {
            "text/plain": [
              "age                          9\n",
              "blood_pressure              12\n",
              "specific_gravity            47\n",
              "albumin                     46\n",
              "sugar                       49\n",
              "red_blood_cells            152\n",
              "pus_cell                    65\n",
              "pus_cell_chumps              4\n",
              "bacteria                     4\n",
              "blood_glucose_random        44\n",
              "blood_urea                  19\n",
              "serum_creatinine            17\n",
              "sodium                      87\n",
              "potassium                   88\n",
              "hemoglobin                  52\n",
              "packed_cell_volume          71\n",
              "white_blood_cell_count     106\n",
              "red_blood_cell_count       131\n",
              "hypertension                 2\n",
              "diabetesmellitus             2\n",
              "coronary_artery_disease      2\n",
              "appetite                     1\n",
              "pedal_edema                  1\n",
              "anemia                       1\n",
              "class                        0\n",
              "dtype: int64"
            ]
          },
          "metadata": {},
          "execution_count": 45
        }
      ]
    },
    {
      "cell_type": "code",
      "source": [
        "#Handling missing values in categorical columns\n",
        "\n",
        "for i in cat_cols:\n",
        "  data[i].fillna(data[i].mode()[0], inplace=True)"
      ],
      "metadata": {
        "id": "-TbWjFQSyw1M"
      },
      "execution_count": null,
      "outputs": []
    },
    {
      "cell_type": "code",
      "source": [
        "for i in cat_cols:\n",
        "  print(i,\":\",data[i].unique())"
      ],
      "metadata": {
        "colab": {
          "base_uri": "https://localhost:8080/"
        },
        "id": "GobZfX28yw6c",
        "outputId": "bbfb65eb-394e-439a-caa5-af579745ae0c"
      },
      "execution_count": null,
      "outputs": [
        {
          "output_type": "stream",
          "name": "stdout",
          "text": [
            "anemia : ['no' 'yes']\n",
            "class : ['ckd' 'notckd']\n",
            "coronary_artery_disease : ['no' 'yes']\n",
            "appetite : ['good' 'poor']\n",
            "diabetesmellitus : ['yes' 'no']\n",
            "pus_cell : ['normal' 'abnormal']\n",
            "pedal_edema : ['no' 'yes']\n",
            "bacteria : ['notpresent' 'present']\n",
            "pus_cell_chumps : ['notpresent' 'present']\n",
            "red_blood_cells : ['normal' 'abnormal']\n",
            "hypertension : ['yes' 'no']\n"
          ]
        }
      ]
    },
    {
      "cell_type": "code",
      "source": [
        "#Handling missing values in numerical columns\n",
        "\n",
        "for i in num_cols:\n",
        "  data[i].fillna(data[i].median(), inplace=True)"
      ],
      "metadata": {
        "id": "HnCqMckCyw9y"
      },
      "execution_count": null,
      "outputs": []
    },
    {
      "cell_type": "code",
      "source": [
        "data.isnull().sum()"
      ],
      "metadata": {
        "colab": {
          "base_uri": "https://localhost:8080/"
        },
        "id": "l60Xku-jyxAk",
        "outputId": "832bdcbc-26ec-4f9c-8366-3040923ef237"
      },
      "execution_count": null,
      "outputs": [
        {
          "output_type": "execute_result",
          "data": {
            "text/plain": [
              "age                        0\n",
              "blood_pressure             0\n",
              "specific_gravity           0\n",
              "albumin                    0\n",
              "sugar                      0\n",
              "red_blood_cells            0\n",
              "pus_cell                   0\n",
              "pus_cell_chumps            0\n",
              "bacteria                   0\n",
              "blood_glucose_random       0\n",
              "blood_urea                 0\n",
              "serum_creatinine           0\n",
              "sodium                     0\n",
              "potassium                  0\n",
              "hemoglobin                 0\n",
              "packed_cell_volume         0\n",
              "white_blood_cell_count     0\n",
              "red_blood_cell_count       0\n",
              "hypertension               0\n",
              "diabetesmellitus           0\n",
              "coronary_artery_disease    0\n",
              "appetite                   0\n",
              "pedal_edema                0\n",
              "anemia                     0\n",
              "class                      0\n",
              "dtype: int64"
            ]
          },
          "metadata": {},
          "execution_count": 49
        }
      ]
    },
    {
      "cell_type": "code",
      "source": [
        "#Label Encoding\n",
        "\n",
        "from sklearn import preprocessing\n",
        "\n",
        "label_encoder = preprocessing.LabelEncoder()\n",
        "  \n",
        "for i in cat_cols:\n",
        "  data[i]= label_encoder.fit_transform(data[i])"
      ],
      "metadata": {
        "id": "BvktcZuQzMHr"
      },
      "execution_count": null,
      "outputs": []
    },
    {
      "cell_type": "code",
      "source": [
        "for i in cat_cols:\n",
        "  print(i,\":\",data[i].unique())"
      ],
      "metadata": {
        "colab": {
          "base_uri": "https://localhost:8080/"
        },
        "id": "Nkl3FsH-zMWR",
        "outputId": "faed8413-aaa6-4dcc-d4da-9452c7ee10ad"
      },
      "execution_count": null,
      "outputs": [
        {
          "output_type": "stream",
          "name": "stdout",
          "text": [
            "anemia : [0 1]\n",
            "class : [0 1]\n",
            "coronary_artery_disease : [0 1]\n",
            "appetite : [0 1]\n",
            "diabetesmellitus : [1 0]\n",
            "pus_cell : [1 0]\n",
            "pedal_edema : [0 1]\n",
            "bacteria : [0 1]\n",
            "pus_cell_chumps : [0 1]\n",
            "red_blood_cells : [1 0]\n",
            "hypertension : [1 0]\n"
          ]
        }
      ]
    },
    {
      "cell_type": "code",
      "source": [
        "#Feature selection\n",
        "\n",
        "X = data.iloc[:,1:-1]\n",
        "y = data['class']\n",
        "selected_columns=[]\n",
        "\n",
        "rfe = RFE(estimator=RandomForestClassifier(), n_features_to_select=14)\n",
        "rfe.fit(X, y)\n",
        "for i in range(X.shape[1]):\n",
        "  if rfe.support_[i]:\n",
        "    selected_columns.append(data.columns[i+1])\n"
      ],
      "metadata": {
        "id": "tKx0qEvwzMZ3"
      },
      "execution_count": null,
      "outputs": []
    },
    {
      "cell_type": "code",
      "source": [
        "selected_columns = ['blood_pressure',\n",
        " 'specific_gravity',\n",
        " 'albumin',\n",
        " 'sugar',\n",
        " 'blood_urea',\n",
        " 'serum_creatinine',\n",
        " 'sodium',\n",
        " 'potassium',\n",
        " 'hemoglobin',\n",
        " 'packed_cell_volume',\n",
        " 'white_blood_cell_count',\n",
        " 'hypertension',\n",
        " 'diabetesmellitus',\n",
        " 'coronary_artery_disease']"
      ],
      "metadata": {
        "id": "0YgYdcA5zMc5"
      },
      "execution_count": null,
      "outputs": []
    },
    {
      "cell_type": "code",
      "source": [
        "#creating dataframe using selected columns.\n",
        "\n",
        "new_data = data[[i for i in selected_columns]].copy()\n",
        "new_data[\"class\"] = data[\"class\"]\n",
        "new_data[\"age\"] = data[\"age\"]\n",
        "new_data"
      ],
      "metadata": {
        "colab": {
          "base_uri": "https://localhost:8080/",
          "height": 488
        },
        "id": "yTarjjxm0lC0",
        "outputId": "2e984e06-ac97-40d6-a7e1-2cc95a004b87"
      },
      "execution_count": null,
      "outputs": [
        {
          "output_type": "execute_result",
          "data": {
            "text/plain": [
              "     blood_pressure  specific_gravity  albumin  sugar  blood_urea  \\\n",
              "0              80.0             1.020      1.0    0.0        36.0   \n",
              "1              50.0             1.020      4.0    0.0        18.0   \n",
              "2              80.0             1.010      2.0    3.0        53.0   \n",
              "3              70.0             1.005      4.0    0.0        56.0   \n",
              "4              80.0             1.010      2.0    0.0        26.0   \n",
              "..              ...               ...      ...    ...         ...   \n",
              "395            80.0             1.020      0.0    0.0        49.0   \n",
              "396            70.0             1.025      0.0    0.0        31.0   \n",
              "397            80.0             1.020      0.0    0.0        26.0   \n",
              "398            60.0             1.025      0.0    0.0        50.0   \n",
              "399            80.0             1.025      0.0    0.0        18.0   \n",
              "\n",
              "     serum_creatinine  sodium  potassium  hemoglobin  packed_cell_volume  \\\n",
              "0                 1.2   138.0        4.4        15.4                44.0   \n",
              "1                 0.8   138.0        4.4        11.3                38.0   \n",
              "2                 1.8   138.0        4.4         9.6                31.0   \n",
              "3                 3.8   111.0        2.5        11.2                32.0   \n",
              "4                 1.4   138.0        4.4        11.6                35.0   \n",
              "..                ...     ...        ...         ...                 ...   \n",
              "395               0.5   150.0        4.9        15.7                47.0   \n",
              "396               1.2   141.0        3.5        16.5                54.0   \n",
              "397               0.6   137.0        4.4        15.8                49.0   \n",
              "398               1.0   135.0        4.9        14.2                51.0   \n",
              "399               1.1   141.0        3.5        15.8                53.0   \n",
              "\n",
              "     white_blood_cell_count  hypertension  diabetesmellitus  \\\n",
              "0                    7800.0             1                 1   \n",
              "1                    6000.0             0                 0   \n",
              "2                    7500.0             0                 1   \n",
              "3                    6700.0             1                 0   \n",
              "4                    7300.0             0                 0   \n",
              "..                      ...           ...               ...   \n",
              "395                  6700.0             0                 0   \n",
              "396                  7800.0             0                 0   \n",
              "397                  6600.0             0                 0   \n",
              "398                  7200.0             0                 0   \n",
              "399                  6800.0             0                 0   \n",
              "\n",
              "     coronary_artery_disease  class   age  \n",
              "0                          0      0  48.0  \n",
              "1                          0      0   7.0  \n",
              "2                          0      0  62.0  \n",
              "3                          0      0  48.0  \n",
              "4                          0      0  51.0  \n",
              "..                       ...    ...   ...  \n",
              "395                        0      1  55.0  \n",
              "396                        0      1  42.0  \n",
              "397                        0      1  12.0  \n",
              "398                        0      1  17.0  \n",
              "399                        0      1  58.0  \n",
              "\n",
              "[400 rows x 16 columns]"
            ],
            "text/html": [
              "\n",
              "  <div id=\"df-273d65aa-4b0a-409f-aa92-b3e60f18047d\">\n",
              "    <div class=\"colab-df-container\">\n",
              "      <div>\n",
              "<style scoped>\n",
              "    .dataframe tbody tr th:only-of-type {\n",
              "        vertical-align: middle;\n",
              "    }\n",
              "\n",
              "    .dataframe tbody tr th {\n",
              "        vertical-align: top;\n",
              "    }\n",
              "\n",
              "    .dataframe thead th {\n",
              "        text-align: right;\n",
              "    }\n",
              "</style>\n",
              "<table border=\"1\" class=\"dataframe\">\n",
              "  <thead>\n",
              "    <tr style=\"text-align: right;\">\n",
              "      <th></th>\n",
              "      <th>blood_pressure</th>\n",
              "      <th>specific_gravity</th>\n",
              "      <th>albumin</th>\n",
              "      <th>sugar</th>\n",
              "      <th>blood_urea</th>\n",
              "      <th>serum_creatinine</th>\n",
              "      <th>sodium</th>\n",
              "      <th>potassium</th>\n",
              "      <th>hemoglobin</th>\n",
              "      <th>packed_cell_volume</th>\n",
              "      <th>white_blood_cell_count</th>\n",
              "      <th>hypertension</th>\n",
              "      <th>diabetesmellitus</th>\n",
              "      <th>coronary_artery_disease</th>\n",
              "      <th>class</th>\n",
              "      <th>age</th>\n",
              "    </tr>\n",
              "  </thead>\n",
              "  <tbody>\n",
              "    <tr>\n",
              "      <th>0</th>\n",
              "      <td>80.0</td>\n",
              "      <td>1.020</td>\n",
              "      <td>1.0</td>\n",
              "      <td>0.0</td>\n",
              "      <td>36.0</td>\n",
              "      <td>1.2</td>\n",
              "      <td>138.0</td>\n",
              "      <td>4.4</td>\n",
              "      <td>15.4</td>\n",
              "      <td>44.0</td>\n",
              "      <td>7800.0</td>\n",
              "      <td>1</td>\n",
              "      <td>1</td>\n",
              "      <td>0</td>\n",
              "      <td>0</td>\n",
              "      <td>48.0</td>\n",
              "    </tr>\n",
              "    <tr>\n",
              "      <th>1</th>\n",
              "      <td>50.0</td>\n",
              "      <td>1.020</td>\n",
              "      <td>4.0</td>\n",
              "      <td>0.0</td>\n",
              "      <td>18.0</td>\n",
              "      <td>0.8</td>\n",
              "      <td>138.0</td>\n",
              "      <td>4.4</td>\n",
              "      <td>11.3</td>\n",
              "      <td>38.0</td>\n",
              "      <td>6000.0</td>\n",
              "      <td>0</td>\n",
              "      <td>0</td>\n",
              "      <td>0</td>\n",
              "      <td>0</td>\n",
              "      <td>7.0</td>\n",
              "    </tr>\n",
              "    <tr>\n",
              "      <th>2</th>\n",
              "      <td>80.0</td>\n",
              "      <td>1.010</td>\n",
              "      <td>2.0</td>\n",
              "      <td>3.0</td>\n",
              "      <td>53.0</td>\n",
              "      <td>1.8</td>\n",
              "      <td>138.0</td>\n",
              "      <td>4.4</td>\n",
              "      <td>9.6</td>\n",
              "      <td>31.0</td>\n",
              "      <td>7500.0</td>\n",
              "      <td>0</td>\n",
              "      <td>1</td>\n",
              "      <td>0</td>\n",
              "      <td>0</td>\n",
              "      <td>62.0</td>\n",
              "    </tr>\n",
              "    <tr>\n",
              "      <th>3</th>\n",
              "      <td>70.0</td>\n",
              "      <td>1.005</td>\n",
              "      <td>4.0</td>\n",
              "      <td>0.0</td>\n",
              "      <td>56.0</td>\n",
              "      <td>3.8</td>\n",
              "      <td>111.0</td>\n",
              "      <td>2.5</td>\n",
              "      <td>11.2</td>\n",
              "      <td>32.0</td>\n",
              "      <td>6700.0</td>\n",
              "      <td>1</td>\n",
              "      <td>0</td>\n",
              "      <td>0</td>\n",
              "      <td>0</td>\n",
              "      <td>48.0</td>\n",
              "    </tr>\n",
              "    <tr>\n",
              "      <th>4</th>\n",
              "      <td>80.0</td>\n",
              "      <td>1.010</td>\n",
              "      <td>2.0</td>\n",
              "      <td>0.0</td>\n",
              "      <td>26.0</td>\n",
              "      <td>1.4</td>\n",
              "      <td>138.0</td>\n",
              "      <td>4.4</td>\n",
              "      <td>11.6</td>\n",
              "      <td>35.0</td>\n",
              "      <td>7300.0</td>\n",
              "      <td>0</td>\n",
              "      <td>0</td>\n",
              "      <td>0</td>\n",
              "      <td>0</td>\n",
              "      <td>51.0</td>\n",
              "    </tr>\n",
              "    <tr>\n",
              "      <th>...</th>\n",
              "      <td>...</td>\n",
              "      <td>...</td>\n",
              "      <td>...</td>\n",
              "      <td>...</td>\n",
              "      <td>...</td>\n",
              "      <td>...</td>\n",
              "      <td>...</td>\n",
              "      <td>...</td>\n",
              "      <td>...</td>\n",
              "      <td>...</td>\n",
              "      <td>...</td>\n",
              "      <td>...</td>\n",
              "      <td>...</td>\n",
              "      <td>...</td>\n",
              "      <td>...</td>\n",
              "      <td>...</td>\n",
              "    </tr>\n",
              "    <tr>\n",
              "      <th>395</th>\n",
              "      <td>80.0</td>\n",
              "      <td>1.020</td>\n",
              "      <td>0.0</td>\n",
              "      <td>0.0</td>\n",
              "      <td>49.0</td>\n",
              "      <td>0.5</td>\n",
              "      <td>150.0</td>\n",
              "      <td>4.9</td>\n",
              "      <td>15.7</td>\n",
              "      <td>47.0</td>\n",
              "      <td>6700.0</td>\n",
              "      <td>0</td>\n",
              "      <td>0</td>\n",
              "      <td>0</td>\n",
              "      <td>1</td>\n",
              "      <td>55.0</td>\n",
              "    </tr>\n",
              "    <tr>\n",
              "      <th>396</th>\n",
              "      <td>70.0</td>\n",
              "      <td>1.025</td>\n",
              "      <td>0.0</td>\n",
              "      <td>0.0</td>\n",
              "      <td>31.0</td>\n",
              "      <td>1.2</td>\n",
              "      <td>141.0</td>\n",
              "      <td>3.5</td>\n",
              "      <td>16.5</td>\n",
              "      <td>54.0</td>\n",
              "      <td>7800.0</td>\n",
              "      <td>0</td>\n",
              "      <td>0</td>\n",
              "      <td>0</td>\n",
              "      <td>1</td>\n",
              "      <td>42.0</td>\n",
              "    </tr>\n",
              "    <tr>\n",
              "      <th>397</th>\n",
              "      <td>80.0</td>\n",
              "      <td>1.020</td>\n",
              "      <td>0.0</td>\n",
              "      <td>0.0</td>\n",
              "      <td>26.0</td>\n",
              "      <td>0.6</td>\n",
              "      <td>137.0</td>\n",
              "      <td>4.4</td>\n",
              "      <td>15.8</td>\n",
              "      <td>49.0</td>\n",
              "      <td>6600.0</td>\n",
              "      <td>0</td>\n",
              "      <td>0</td>\n",
              "      <td>0</td>\n",
              "      <td>1</td>\n",
              "      <td>12.0</td>\n",
              "    </tr>\n",
              "    <tr>\n",
              "      <th>398</th>\n",
              "      <td>60.0</td>\n",
              "      <td>1.025</td>\n",
              "      <td>0.0</td>\n",
              "      <td>0.0</td>\n",
              "      <td>50.0</td>\n",
              "      <td>1.0</td>\n",
              "      <td>135.0</td>\n",
              "      <td>4.9</td>\n",
              "      <td>14.2</td>\n",
              "      <td>51.0</td>\n",
              "      <td>7200.0</td>\n",
              "      <td>0</td>\n",
              "      <td>0</td>\n",
              "      <td>0</td>\n",
              "      <td>1</td>\n",
              "      <td>17.0</td>\n",
              "    </tr>\n",
              "    <tr>\n",
              "      <th>399</th>\n",
              "      <td>80.0</td>\n",
              "      <td>1.025</td>\n",
              "      <td>0.0</td>\n",
              "      <td>0.0</td>\n",
              "      <td>18.0</td>\n",
              "      <td>1.1</td>\n",
              "      <td>141.0</td>\n",
              "      <td>3.5</td>\n",
              "      <td>15.8</td>\n",
              "      <td>53.0</td>\n",
              "      <td>6800.0</td>\n",
              "      <td>0</td>\n",
              "      <td>0</td>\n",
              "      <td>0</td>\n",
              "      <td>1</td>\n",
              "      <td>58.0</td>\n",
              "    </tr>\n",
              "  </tbody>\n",
              "</table>\n",
              "<p>400 rows × 16 columns</p>\n",
              "</div>\n",
              "      <button class=\"colab-df-convert\" onclick=\"convertToInteractive('df-273d65aa-4b0a-409f-aa92-b3e60f18047d')\"\n",
              "              title=\"Convert this dataframe to an interactive table.\"\n",
              "              style=\"display:none;\">\n",
              "        \n",
              "  <svg xmlns=\"http://www.w3.org/2000/svg\" height=\"24px\"viewBox=\"0 0 24 24\"\n",
              "       width=\"24px\">\n",
              "    <path d=\"M0 0h24v24H0V0z\" fill=\"none\"/>\n",
              "    <path d=\"M18.56 5.44l.94 2.06.94-2.06 2.06-.94-2.06-.94-.94-2.06-.94 2.06-2.06.94zm-11 1L8.5 8.5l.94-2.06 2.06-.94-2.06-.94L8.5 2.5l-.94 2.06-2.06.94zm10 10l.94 2.06.94-2.06 2.06-.94-2.06-.94-.94-2.06-.94 2.06-2.06.94z\"/><path d=\"M17.41 7.96l-1.37-1.37c-.4-.4-.92-.59-1.43-.59-.52 0-1.04.2-1.43.59L10.3 9.45l-7.72 7.72c-.78.78-.78 2.05 0 2.83L4 21.41c.39.39.9.59 1.41.59.51 0 1.02-.2 1.41-.59l7.78-7.78 2.81-2.81c.8-.78.8-2.07 0-2.86zM5.41 20L4 18.59l7.72-7.72 1.47 1.35L5.41 20z\"/>\n",
              "  </svg>\n",
              "      </button>\n",
              "      \n",
              "  <style>\n",
              "    .colab-df-container {\n",
              "      display:flex;\n",
              "      flex-wrap:wrap;\n",
              "      gap: 12px;\n",
              "    }\n",
              "\n",
              "    .colab-df-convert {\n",
              "      background-color: #E8F0FE;\n",
              "      border: none;\n",
              "      border-radius: 50%;\n",
              "      cursor: pointer;\n",
              "      display: none;\n",
              "      fill: #1967D2;\n",
              "      height: 32px;\n",
              "      padding: 0 0 0 0;\n",
              "      width: 32px;\n",
              "    }\n",
              "\n",
              "    .colab-df-convert:hover {\n",
              "      background-color: #E2EBFA;\n",
              "      box-shadow: 0px 1px 2px rgba(60, 64, 67, 0.3), 0px 1px 3px 1px rgba(60, 64, 67, 0.15);\n",
              "      fill: #174EA6;\n",
              "    }\n",
              "\n",
              "    [theme=dark] .colab-df-convert {\n",
              "      background-color: #3B4455;\n",
              "      fill: #D2E3FC;\n",
              "    }\n",
              "\n",
              "    [theme=dark] .colab-df-convert:hover {\n",
              "      background-color: #434B5C;\n",
              "      box-shadow: 0px 1px 3px 1px rgba(0, 0, 0, 0.15);\n",
              "      filter: drop-shadow(0px 1px 2px rgba(0, 0, 0, 0.3));\n",
              "      fill: #FFFFFF;\n",
              "    }\n",
              "  </style>\n",
              "\n",
              "      <script>\n",
              "        const buttonEl =\n",
              "          document.querySelector('#df-273d65aa-4b0a-409f-aa92-b3e60f18047d button.colab-df-convert');\n",
              "        buttonEl.style.display =\n",
              "          google.colab.kernel.accessAllowed ? 'block' : 'none';\n",
              "\n",
              "        async function convertToInteractive(key) {\n",
              "          const element = document.querySelector('#df-273d65aa-4b0a-409f-aa92-b3e60f18047d');\n",
              "          const dataTable =\n",
              "            await google.colab.kernel.invokeFunction('convertToInteractive',\n",
              "                                                     [key], {});\n",
              "          if (!dataTable) return;\n",
              "\n",
              "          const docLinkHtml = 'Like what you see? Visit the ' +\n",
              "            '<a target=\"_blank\" href=https://colab.research.google.com/notebooks/data_table.ipynb>data table notebook</a>'\n",
              "            + ' to learn more about interactive tables.';\n",
              "          element.innerHTML = '';\n",
              "          dataTable['output_type'] = 'display_data';\n",
              "          await google.colab.output.renderOutput(dataTable, element);\n",
              "          const docLink = document.createElement('div');\n",
              "          docLink.innerHTML = docLinkHtml;\n",
              "          element.appendChild(docLink);\n",
              "        }\n",
              "      </script>\n",
              "    </div>\n",
              "  </div>\n",
              "  "
            ]
          },
          "metadata": {},
          "execution_count": 55
        }
      ]
    },
    {
      "cell_type": "code",
      "source": [
        "#splitting the dataset into dependant and independant variables\n",
        "\n",
        "X = data.drop([\"class\"], axis=1)\n",
        "y = new_data[\"class\"]"
      ],
      "metadata": {
        "id": "o09gfO6w02n7"
      },
      "execution_count": null,
      "outputs": []
    },
    {
      "cell_type": "code",
      "source": [
        "#spliting test train data\n",
        "\n",
        "X_train, X_test, Y_train, Y_test = train_test_split(X, y, test_size=0.2, random_state = 42)"
      ],
      "metadata": {
        "id": "iwzR3SQB1H4j"
      },
      "execution_count": null,
      "outputs": []
    },
    {
      "cell_type": "code",
      "source": [
        "#model building\n",
        "\n",
        "#1.LogisticRegression\n",
        "ckd_LG = LogisticRegression(max_iter=2500)\n",
        "ckd_LG.fit(X_train, Y_train)\n",
        "\n",
        "#2.Supportvectormachines\n",
        "ckd_svc = SVC(kernel = 'linear')\n",
        "ckd_svc.fit(X_train, Y_train)\n",
        "\n",
        "#3.GaussianNB\n",
        "ckd_GN = GaussianNB()\n",
        "ckd_GN.fit(X_train, Y_train)\n",
        "\n",
        "#4.MultinomialNB\n",
        "ckd_MN = MultinomialNB()\n",
        "ckd_MN.fit(X_train, Y_train)\n",
        "\n",
        "#5.SGDClassifier\n",
        "ckd_SG = SGDClassifier()\n",
        "ckd_SG.fit(X_train, Y_train)\n",
        "\n",
        "#6.KNeighborsClassifier\n",
        "ckd_KNN = KNeighborsClassifier(n_neighbors=5)\n",
        "ckd_KNN.fit(X_train, Y_train)\n",
        "\n",
        "#7.DecisionTreeClassifier\n",
        "ckd_DT = DecisionTreeClassifier()\n",
        "ckd_DT.fit(X_train, Y_train)\n",
        "\n",
        "#8.RandomForestClassifier\n",
        "ckd_RF = RandomForestClassifier()\n",
        "ckd_RF.fit(X_train, Y_train)\n",
        "\n",
        "#9.GradientBoostingClassifier\n",
        "ckd_GB = GradientBoostingClassifier()\n",
        "ckd_GB.fit(X_train, Y_train)\n",
        "\n",
        "#10.LGBMClassifier\n",
        "ckd_LC = LGBMClassifier()\n",
        "ckd_LC.fit(X_train, Y_train)\n",
        "\n",
        "#11.XGBClassifier\n",
        "ckd_XG = XGBClassifier(max_depth = 5,  n_estimators = 150)\n",
        "ckd_XG.fit(X_train, Y_train)\n",
        "\n",
        "#12.AdaBoostClassifier\n",
        "ckd_ada = AdaBoostClassifier(base_estimator = ckd_DT)\n",
        "ckd_ada.fit(X_train, Y_train)\n"
      ],
      "metadata": {
        "colab": {
          "base_uri": "https://localhost:8080/"
        },
        "id": "hCoeMFWB1H7b",
        "outputId": "1ce57107-3964-4bae-a25f-7527a6e45a9a"
      },
      "execution_count": null,
      "outputs": [
        {
          "output_type": "execute_result",
          "data": {
            "text/plain": [
              "AdaBoostClassifier(base_estimator=DecisionTreeClassifier())"
            ]
          },
          "metadata": {},
          "execution_count": 58
        }
      ]
    },
    {
      "cell_type": "code",
      "source": [
        "accuracy = {}\n",
        "\n",
        "#classification report for LogisticRegression\n",
        "\n",
        "Y_pred = ckd_LG.predict(X_test)\n",
        "ckd_LG_acc = accuracy_score(Y_test, Y_pred)\n",
        "print(classification_report(Y_test, Y_pred))\n",
        "print(confusion_matrix(Y_test, Y_pred))\n",
        "accuracy['LogisticRegression'] = ckd_LG_acc"
      ],
      "metadata": {
        "colab": {
          "base_uri": "https://localhost:8080/"
        },
        "id": "ppkIrROc1IAb",
        "outputId": "c5bdd062-6331-405f-f084-08a3757f6b8e"
      },
      "execution_count": null,
      "outputs": [
        {
          "output_type": "stream",
          "name": "stdout",
          "text": [
            "              precision    recall  f1-score   support\n",
            "\n",
            "           0       0.98      1.00      0.99        52\n",
            "           1       1.00      0.96      0.98        28\n",
            "\n",
            "    accuracy                           0.99        80\n",
            "   macro avg       0.99      0.98      0.99        80\n",
            "weighted avg       0.99      0.99      0.99        80\n",
            "\n",
            "[[52  0]\n",
            " [ 1 27]]\n"
          ]
        }
      ]
    },
    {
      "cell_type": "code",
      "source": [
        "#classification report for Supportvectormachines\n",
        "\n",
        "Y_pred = ckd_svc.predict(X_test)\n",
        "ckd_svc_acc = accuracy_score(Y_test, Y_pred)\n",
        "print(classification_report(Y_test, Y_pred))\n",
        "print(confusion_matrix(Y_test, Y_pred))\n",
        "\n",
        "accuracy['Supportvectormachines'] = ckd_svc_acc"
      ],
      "metadata": {
        "colab": {
          "base_uri": "https://localhost:8080/"
        },
        "id": "LKup9PrX1IDd",
        "outputId": "725845d7-e322-44b3-9f87-d5fe0f32b242"
      },
      "execution_count": null,
      "outputs": [
        {
          "output_type": "stream",
          "name": "stdout",
          "text": [
            "              precision    recall  f1-score   support\n",
            "\n",
            "           0       0.98      0.96      0.97        52\n",
            "           1       0.93      0.96      0.95        28\n",
            "\n",
            "    accuracy                           0.96        80\n",
            "   macro avg       0.96      0.96      0.96        80\n",
            "weighted avg       0.96      0.96      0.96        80\n",
            "\n",
            "[[50  2]\n",
            " [ 1 27]]\n"
          ]
        }
      ]
    },
    {
      "cell_type": "code",
      "source": [
        "#classification report for GaussianNB\n",
        "\n",
        "Y_pred = ckd_GB.predict(X_test)\n",
        "ckd_GB_acc = accuracy_score(Y_test, Y_pred)\n",
        "print(classification_report(Y_test, Y_pred))\n",
        "print(confusion_matrix(Y_test, Y_pred))\n",
        "\n",
        "accuracy['GaussianNB'] = ckd_GB_acc"
      ],
      "metadata": {
        "colab": {
          "base_uri": "https://localhost:8080/"
        },
        "id": "yEkAMWIu2C6X",
        "outputId": "523fec51-daff-41d0-c9c5-3ab235e31104"
      },
      "execution_count": null,
      "outputs": [
        {
          "output_type": "stream",
          "name": "stdout",
          "text": [
            "              precision    recall  f1-score   support\n",
            "\n",
            "           0       1.00      1.00      1.00        52\n",
            "           1       1.00      1.00      1.00        28\n",
            "\n",
            "    accuracy                           1.00        80\n",
            "   macro avg       1.00      1.00      1.00        80\n",
            "weighted avg       1.00      1.00      1.00        80\n",
            "\n",
            "[[52  0]\n",
            " [ 0 28]]\n"
          ]
        }
      ]
    },
    {
      "cell_type": "code",
      "source": [
        "#classification report for MultinomialNB\n",
        "\n",
        "Y_pred = ckd_MN.predict(X_test)\n",
        "ckd_MN_acc = accuracy_score(Y_test, Y_pred)\n",
        "print(classification_report(Y_test, Y_pred))\n",
        "print(confusion_matrix(Y_test, Y_pred))\n",
        "\n",
        "accuracy['MultinomialNB'] = ckd_MN_acc"
      ],
      "metadata": {
        "colab": {
          "base_uri": "https://localhost:8080/"
        },
        "id": "RmW_T-pO2C9U",
        "outputId": "ca5a5514-0dff-41ed-8bbe-346d83e0f8d4"
      },
      "execution_count": null,
      "outputs": [
        {
          "output_type": "stream",
          "name": "stdout",
          "text": [
            "              precision    recall  f1-score   support\n",
            "\n",
            "           0       1.00      0.81      0.89        52\n",
            "           1       0.74      1.00      0.85        28\n",
            "\n",
            "    accuracy                           0.88        80\n",
            "   macro avg       0.87      0.90      0.87        80\n",
            "weighted avg       0.91      0.88      0.88        80\n",
            "\n",
            "[[42 10]\n",
            " [ 0 28]]\n"
          ]
        }
      ]
    },
    {
      "cell_type": "code",
      "source": [
        "#classification report for SGDClassifier\n",
        "\n",
        "Y_pred = ckd_SG.predict(X_test)\n",
        "ckd_SG_acc = accuracy_score(Y_test, Y_pred)\n",
        "print(classification_report(Y_test, Y_pred))\n",
        "print(confusion_matrix(Y_test, Y_pred))\n",
        "\n",
        "accuracy['SGDClassifier'] = ckd_SG_acc"
      ],
      "metadata": {
        "colab": {
          "base_uri": "https://localhost:8080/"
        },
        "id": "cxuVV0SC2DAc",
        "outputId": "468cbfe5-44ed-4d7e-9f54-3e2768ee924a"
      },
      "execution_count": null,
      "outputs": [
        {
          "output_type": "stream",
          "name": "stdout",
          "text": [
            "              precision    recall  f1-score   support\n",
            "\n",
            "           0       0.00      0.00      0.00        52\n",
            "           1       0.35      1.00      0.52        28\n",
            "\n",
            "    accuracy                           0.35        80\n",
            "   macro avg       0.17      0.50      0.26        80\n",
            "weighted avg       0.12      0.35      0.18        80\n",
            "\n",
            "[[ 0 52]\n",
            " [ 0 28]]\n"
          ]
        },
        {
          "output_type": "stream",
          "name": "stderr",
          "text": [
            "/usr/local/lib/python3.7/dist-packages/sklearn/metrics/_classification.py:1318: UndefinedMetricWarning: Precision and F-score are ill-defined and being set to 0.0 in labels with no predicted samples. Use `zero_division` parameter to control this behavior.\n",
            "  _warn_prf(average, modifier, msg_start, len(result))\n",
            "/usr/local/lib/python3.7/dist-packages/sklearn/metrics/_classification.py:1318: UndefinedMetricWarning: Precision and F-score are ill-defined and being set to 0.0 in labels with no predicted samples. Use `zero_division` parameter to control this behavior.\n",
            "  _warn_prf(average, modifier, msg_start, len(result))\n",
            "/usr/local/lib/python3.7/dist-packages/sklearn/metrics/_classification.py:1318: UndefinedMetricWarning: Precision and F-score are ill-defined and being set to 0.0 in labels with no predicted samples. Use `zero_division` parameter to control this behavior.\n",
            "  _warn_prf(average, modifier, msg_start, len(result))\n"
          ]
        }
      ]
    },
    {
      "cell_type": "code",
      "source": [
        "#classification report for KNeighborsClassifier\n",
        "\n",
        "Y_pred = ckd_KNN.predict(X_test)\n",
        "ckd_KNN_acc = accuracy_score(Y_test, Y_pred)\n",
        "print(classification_report(Y_test, Y_pred))\n",
        "print(confusion_matrix(Y_test, Y_pred))\n",
        "\n",
        "accuracy['KNeighborsClassifier'] = ckd_KNN_acc"
      ],
      "metadata": {
        "colab": {
          "base_uri": "https://localhost:8080/"
        },
        "id": "RHeQ4fcU2DDU",
        "outputId": "5c84e954-650d-4206-cad4-0b05c0669bde"
      },
      "execution_count": null,
      "outputs": [
        {
          "output_type": "stream",
          "name": "stdout",
          "text": [
            "              precision    recall  f1-score   support\n",
            "\n",
            "           0       0.89      0.60      0.71        52\n",
            "           1       0.53      0.86      0.66        28\n",
            "\n",
            "    accuracy                           0.69        80\n",
            "   macro avg       0.71      0.73      0.69        80\n",
            "weighted avg       0.76      0.69      0.69        80\n",
            "\n",
            "[[31 21]\n",
            " [ 4 24]]\n"
          ]
        }
      ]
    },
    {
      "cell_type": "code",
      "source": [
        "#classification report for DecisionTreeClassifier\n",
        "\n",
        "Y_pred = ckd_DT.predict(X_test)\n",
        "ckd_DT_acc = accuracy_score(Y_test, Y_pred)\n",
        "print(classification_report(Y_test, Y_pred))\n",
        "print(confusion_matrix(Y_test, Y_pred))\n",
        "\n",
        "accuracy['DecisionTreeClassifier'] = ckd_DT_acc"
      ],
      "metadata": {
        "colab": {
          "base_uri": "https://localhost:8080/"
        },
        "id": "-rMlI_xJ2DF8",
        "outputId": "a3945701-3279-4e8b-b22f-fb9b582016f3"
      },
      "execution_count": null,
      "outputs": [
        {
          "output_type": "stream",
          "name": "stdout",
          "text": [
            "              precision    recall  f1-score   support\n",
            "\n",
            "           0       1.00      0.98      0.99        52\n",
            "           1       0.97      1.00      0.98        28\n",
            "\n",
            "    accuracy                           0.99        80\n",
            "   macro avg       0.98      0.99      0.99        80\n",
            "weighted avg       0.99      0.99      0.99        80\n",
            "\n",
            "[[51  1]\n",
            " [ 0 28]]\n"
          ]
        }
      ]
    },
    {
      "cell_type": "code",
      "source": [
        "#classification report for RandomForestClassifier\n",
        "\n",
        "Y_pred = ckd_RF.predict(X_test)\n",
        "ckd_RF_acc = accuracy_score(Y_test, Y_pred)\n",
        "print(classification_report(Y_test, Y_pred))\n",
        "print(confusion_matrix(Y_test, Y_pred))\n",
        "\n",
        "accuracy['RandomForestClassifier'] = ckd_RF_acc"
      ],
      "metadata": {
        "colab": {
          "base_uri": "https://localhost:8080/"
        },
        "id": "0yG44k9S2DIa",
        "outputId": "c4e1e5f9-46ec-425d-be0c-203db844a0b5"
      },
      "execution_count": null,
      "outputs": [
        {
          "output_type": "stream",
          "name": "stdout",
          "text": [
            "              precision    recall  f1-score   support\n",
            "\n",
            "           0       1.00      1.00      1.00        52\n",
            "           1       1.00      1.00      1.00        28\n",
            "\n",
            "    accuracy                           1.00        80\n",
            "   macro avg       1.00      1.00      1.00        80\n",
            "weighted avg       1.00      1.00      1.00        80\n",
            "\n",
            "[[52  0]\n",
            " [ 0 28]]\n"
          ]
        }
      ]
    },
    {
      "cell_type": "code",
      "source": [
        "#classification report for GradientBoostingClassifier\n",
        "\n",
        "Y_pred = ckd_GB.predict(X_test)\n",
        "ckd_GB_acc = accuracy_score(Y_test, Y_pred)\n",
        "print(classification_report(Y_test, Y_pred))\n",
        "print(confusion_matrix(Y_test, Y_pred))\n",
        "\n",
        "accuracy['GradientBoostingClassifier'] = ckd_GB_acc"
      ],
      "metadata": {
        "colab": {
          "base_uri": "https://localhost:8080/"
        },
        "id": "UXYzJkSX2DK_",
        "outputId": "8f77912d-d202-4e79-acc3-7e85b6e461ad"
      },
      "execution_count": null,
      "outputs": [
        {
          "output_type": "stream",
          "name": "stdout",
          "text": [
            "              precision    recall  f1-score   support\n",
            "\n",
            "           0       1.00      1.00      1.00        52\n",
            "           1       1.00      1.00      1.00        28\n",
            "\n",
            "    accuracy                           1.00        80\n",
            "   macro avg       1.00      1.00      1.00        80\n",
            "weighted avg       1.00      1.00      1.00        80\n",
            "\n",
            "[[52  0]\n",
            " [ 0 28]]\n"
          ]
        }
      ]
    },
    {
      "cell_type": "code",
      "source": [
        "#classification report for LGBMClassifier\n",
        "\n",
        "Y_pred = ckd_LC.predict(X_test)\n",
        "ckd_LC_acc = accuracy_score(Y_test, Y_pred)\n",
        "print(classification_report(Y_test, Y_pred))\n",
        "print(confusion_matrix(Y_test, Y_pred))\n",
        "\n",
        "accuracy['LGBMClassifier'] = ckd_LC_acc"
      ],
      "metadata": {
        "colab": {
          "base_uri": "https://localhost:8080/"
        },
        "id": "X0MGcX2v2DM3",
        "outputId": "3d48706b-64d5-47e1-f67f-4b034c9da12f"
      },
      "execution_count": null,
      "outputs": [
        {
          "output_type": "stream",
          "name": "stdout",
          "text": [
            "              precision    recall  f1-score   support\n",
            "\n",
            "           0       1.00      1.00      1.00        52\n",
            "           1       1.00      1.00      1.00        28\n",
            "\n",
            "    accuracy                           1.00        80\n",
            "   macro avg       1.00      1.00      1.00        80\n",
            "weighted avg       1.00      1.00      1.00        80\n",
            "\n",
            "[[52  0]\n",
            " [ 0 28]]\n"
          ]
        }
      ]
    },
    {
      "cell_type": "code",
      "source": [
        "#classification report for XGBClassifier\n",
        "\n",
        "Y_pred = ckd_XG.predict(X_test)\n",
        "ckd_XG_acc = accuracy_score(Y_test, Y_pred)\n",
        "print(classification_report(Y_test, Y_pred))\n",
        "print(confusion_matrix(Y_test, Y_pred))\n",
        "\n",
        "accuracy['XGBClassifier'] = ckd_XG_acc"
      ],
      "metadata": {
        "colab": {
          "base_uri": "https://localhost:8080/"
        },
        "id": "UaznALZV2TBO",
        "outputId": "d4c8dcab-3597-4e2c-acb7-773ea085145d"
      },
      "execution_count": null,
      "outputs": [
        {
          "output_type": "stream",
          "name": "stdout",
          "text": [
            "              precision    recall  f1-score   support\n",
            "\n",
            "           0       1.00      0.98      0.99        52\n",
            "           1       0.97      1.00      0.98        28\n",
            "\n",
            "    accuracy                           0.99        80\n",
            "   macro avg       0.98      0.99      0.99        80\n",
            "weighted avg       0.99      0.99      0.99        80\n",
            "\n",
            "[[51  1]\n",
            " [ 0 28]]\n"
          ]
        }
      ]
    },
    {
      "cell_type": "code",
      "source": [
        "#classification report for AdaBoostClassifier\n",
        "\n",
        "Y_pred = ckd_ada.predict(X_test)\n",
        "ckd_ada_acc = accuracy_score(Y_test, Y_pred)\n",
        "print(classification_report(Y_test, Y_pred))\n",
        "print(confusion_matrix(Y_test, Y_pred))\n",
        "\n",
        "accuracy['AdaBoostClassifier'] = ckd_ada_acc"
      ],
      "metadata": {
        "colab": {
          "base_uri": "https://localhost:8080/"
        },
        "id": "OK-uBEKG2Tl9",
        "outputId": "a9fc922a-b4d1-419e-bef2-7f0f27c35ad2"
      },
      "execution_count": null,
      "outputs": [
        {
          "output_type": "stream",
          "name": "stdout",
          "text": [
            "              precision    recall  f1-score   support\n",
            "\n",
            "           0       1.00      1.00      1.00        52\n",
            "           1       1.00      1.00      1.00        28\n",
            "\n",
            "    accuracy                           1.00        80\n",
            "   macro avg       1.00      1.00      1.00        80\n",
            "weighted avg       1.00      1.00      1.00        80\n",
            "\n",
            "[[52  0]\n",
            " [ 0 28]]\n"
          ]
        }
      ]
    },
    {
      "cell_type": "code",
      "source": [
        "print(accuracy)"
      ],
      "metadata": {
        "colab": {
          "base_uri": "https://localhost:8080/"
        },
        "id": "dLqEiUzp3BtJ",
        "outputId": "7b91386d-2d25-4075-ae08-919adf5647b5"
      },
      "execution_count": null,
      "outputs": [
        {
          "output_type": "stream",
          "name": "stdout",
          "text": [
            "{'LogisticRegression': 0.9875, 'Supportvectormachines': 0.9625, 'GaussianNB': 1.0, 'MultinomialNB': 0.875, 'SGDClassifier': 0.35, 'KNeighborsClassifier': 0.6875, 'DecisionTreeClassifier': 0.9875, 'RandomForestClassifier': 1.0, 'GradientBoostingClassifier': 1.0, 'LGBMClassifier': 1.0, 'XGBClassifier': 0.9875, 'AdaBoostClassifier': 1.0}\n"
          ]
        }
      ]
    },
    {
      "cell_type": "code",
      "source": [
        "accuracy = pd.DataFrame(list(accuracy.items()))"
      ],
      "metadata": {
        "id": "hMtUUFdy3GIt"
      },
      "execution_count": null,
      "outputs": []
    },
    {
      "cell_type": "code",
      "source": [
        "#model evaluation\n",
        "\n",
        "accuracy"
      ],
      "metadata": {
        "colab": {
          "base_uri": "https://localhost:8080/",
          "height": 426
        },
        "id": "taytGNUd3ewF",
        "outputId": "dbf9f9bc-5d0d-49bf-90ca-ed85f437dbd2"
      },
      "execution_count": null,
      "outputs": [
        {
          "output_type": "execute_result",
          "data": {
            "text/plain": [
              "                             0       1\n",
              "0           LogisticRegression  0.9875\n",
              "1        Supportvectormachines  0.9625\n",
              "2                   GaussianNB  1.0000\n",
              "3                MultinomialNB  0.8750\n",
              "4                SGDClassifier  0.3500\n",
              "5         KNeighborsClassifier  0.6875\n",
              "6       DecisionTreeClassifier  0.9875\n",
              "7       RandomForestClassifier  1.0000\n",
              "8   GradientBoostingClassifier  1.0000\n",
              "9               LGBMClassifier  1.0000\n",
              "10               XGBClassifier  0.9875\n",
              "11          AdaBoostClassifier  1.0000"
            ],
            "text/html": [
              "\n",
              "  <div id=\"df-6ed779bd-9b14-4b29-a81f-e89e4ea1408d\">\n",
              "    <div class=\"colab-df-container\">\n",
              "      <div>\n",
              "<style scoped>\n",
              "    .dataframe tbody tr th:only-of-type {\n",
              "        vertical-align: middle;\n",
              "    }\n",
              "\n",
              "    .dataframe tbody tr th {\n",
              "        vertical-align: top;\n",
              "    }\n",
              "\n",
              "    .dataframe thead th {\n",
              "        text-align: right;\n",
              "    }\n",
              "</style>\n",
              "<table border=\"1\" class=\"dataframe\">\n",
              "  <thead>\n",
              "    <tr style=\"text-align: right;\">\n",
              "      <th></th>\n",
              "      <th>0</th>\n",
              "      <th>1</th>\n",
              "    </tr>\n",
              "  </thead>\n",
              "  <tbody>\n",
              "    <tr>\n",
              "      <th>0</th>\n",
              "      <td>LogisticRegression</td>\n",
              "      <td>0.9875</td>\n",
              "    </tr>\n",
              "    <tr>\n",
              "      <th>1</th>\n",
              "      <td>Supportvectormachines</td>\n",
              "      <td>0.9625</td>\n",
              "    </tr>\n",
              "    <tr>\n",
              "      <th>2</th>\n",
              "      <td>GaussianNB</td>\n",
              "      <td>1.0000</td>\n",
              "    </tr>\n",
              "    <tr>\n",
              "      <th>3</th>\n",
              "      <td>MultinomialNB</td>\n",
              "      <td>0.8750</td>\n",
              "    </tr>\n",
              "    <tr>\n",
              "      <th>4</th>\n",
              "      <td>SGDClassifier</td>\n",
              "      <td>0.3500</td>\n",
              "    </tr>\n",
              "    <tr>\n",
              "      <th>5</th>\n",
              "      <td>KNeighborsClassifier</td>\n",
              "      <td>0.6875</td>\n",
              "    </tr>\n",
              "    <tr>\n",
              "      <th>6</th>\n",
              "      <td>DecisionTreeClassifier</td>\n",
              "      <td>0.9875</td>\n",
              "    </tr>\n",
              "    <tr>\n",
              "      <th>7</th>\n",
              "      <td>RandomForestClassifier</td>\n",
              "      <td>1.0000</td>\n",
              "    </tr>\n",
              "    <tr>\n",
              "      <th>8</th>\n",
              "      <td>GradientBoostingClassifier</td>\n",
              "      <td>1.0000</td>\n",
              "    </tr>\n",
              "    <tr>\n",
              "      <th>9</th>\n",
              "      <td>LGBMClassifier</td>\n",
              "      <td>1.0000</td>\n",
              "    </tr>\n",
              "    <tr>\n",
              "      <th>10</th>\n",
              "      <td>XGBClassifier</td>\n",
              "      <td>0.9875</td>\n",
              "    </tr>\n",
              "    <tr>\n",
              "      <th>11</th>\n",
              "      <td>AdaBoostClassifier</td>\n",
              "      <td>1.0000</td>\n",
              "    </tr>\n",
              "  </tbody>\n",
              "</table>\n",
              "</div>\n",
              "      <button class=\"colab-df-convert\" onclick=\"convertToInteractive('df-6ed779bd-9b14-4b29-a81f-e89e4ea1408d')\"\n",
              "              title=\"Convert this dataframe to an interactive table.\"\n",
              "              style=\"display:none;\">\n",
              "        \n",
              "  <svg xmlns=\"http://www.w3.org/2000/svg\" height=\"24px\"viewBox=\"0 0 24 24\"\n",
              "       width=\"24px\">\n",
              "    <path d=\"M0 0h24v24H0V0z\" fill=\"none\"/>\n",
              "    <path d=\"M18.56 5.44l.94 2.06.94-2.06 2.06-.94-2.06-.94-.94-2.06-.94 2.06-2.06.94zm-11 1L8.5 8.5l.94-2.06 2.06-.94-2.06-.94L8.5 2.5l-.94 2.06-2.06.94zm10 10l.94 2.06.94-2.06 2.06-.94-2.06-.94-.94-2.06-.94 2.06-2.06.94z\"/><path d=\"M17.41 7.96l-1.37-1.37c-.4-.4-.92-.59-1.43-.59-.52 0-1.04.2-1.43.59L10.3 9.45l-7.72 7.72c-.78.78-.78 2.05 0 2.83L4 21.41c.39.39.9.59 1.41.59.51 0 1.02-.2 1.41-.59l7.78-7.78 2.81-2.81c.8-.78.8-2.07 0-2.86zM5.41 20L4 18.59l7.72-7.72 1.47 1.35L5.41 20z\"/>\n",
              "  </svg>\n",
              "      </button>\n",
              "      \n",
              "  <style>\n",
              "    .colab-df-container {\n",
              "      display:flex;\n",
              "      flex-wrap:wrap;\n",
              "      gap: 12px;\n",
              "    }\n",
              "\n",
              "    .colab-df-convert {\n",
              "      background-color: #E8F0FE;\n",
              "      border: none;\n",
              "      border-radius: 50%;\n",
              "      cursor: pointer;\n",
              "      display: none;\n",
              "      fill: #1967D2;\n",
              "      height: 32px;\n",
              "      padding: 0 0 0 0;\n",
              "      width: 32px;\n",
              "    }\n",
              "\n",
              "    .colab-df-convert:hover {\n",
              "      background-color: #E2EBFA;\n",
              "      box-shadow: 0px 1px 2px rgba(60, 64, 67, 0.3), 0px 1px 3px 1px rgba(60, 64, 67, 0.15);\n",
              "      fill: #174EA6;\n",
              "    }\n",
              "\n",
              "    [theme=dark] .colab-df-convert {\n",
              "      background-color: #3B4455;\n",
              "      fill: #D2E3FC;\n",
              "    }\n",
              "\n",
              "    [theme=dark] .colab-df-convert:hover {\n",
              "      background-color: #434B5C;\n",
              "      box-shadow: 0px 1px 3px 1px rgba(0, 0, 0, 0.15);\n",
              "      filter: drop-shadow(0px 1px 2px rgba(0, 0, 0, 0.3));\n",
              "      fill: #FFFFFF;\n",
              "    }\n",
              "  </style>\n",
              "\n",
              "      <script>\n",
              "        const buttonEl =\n",
              "          document.querySelector('#df-6ed779bd-9b14-4b29-a81f-e89e4ea1408d button.colab-df-convert');\n",
              "        buttonEl.style.display =\n",
              "          google.colab.kernel.accessAllowed ? 'block' : 'none';\n",
              "\n",
              "        async function convertToInteractive(key) {\n",
              "          const element = document.querySelector('#df-6ed779bd-9b14-4b29-a81f-e89e4ea1408d');\n",
              "          const dataTable =\n",
              "            await google.colab.kernel.invokeFunction('convertToInteractive',\n",
              "                                                     [key], {});\n",
              "          if (!dataTable) return;\n",
              "\n",
              "          const docLinkHtml = 'Like what you see? Visit the ' +\n",
              "            '<a target=\"_blank\" href=https://colab.research.google.com/notebooks/data_table.ipynb>data table notebook</a>'\n",
              "            + ' to learn more about interactive tables.';\n",
              "          element.innerHTML = '';\n",
              "          dataTable['output_type'] = 'display_data';\n",
              "          await google.colab.output.renderOutput(dataTable, element);\n",
              "          const docLink = document.createElement('div');\n",
              "          docLink.innerHTML = docLinkHtml;\n",
              "          element.appendChild(docLink);\n",
              "        }\n",
              "      </script>\n",
              "    </div>\n",
              "  </div>\n",
              "  "
            ]
          },
          "metadata": {},
          "execution_count": 76
        }
      ]
    },
    {
      "cell_type": "code",
      "source": [
        "''' Comparing various classification algorithms, Randomforest classifier is more reliable in predicting the results with various combination of features'''"
      ],
      "metadata": {
        "id": "vu4A_w3a3ny2"
      },
      "execution_count": null,
      "outputs": []
    },
    {
      "cell_type": "code",
      "source": [
        "#save the model\n",
        "\n",
        "import pickle\n",
        "pickle.dump(ckd_RF, open(\"ckd.pkl\", 'wb'))"
      ],
      "metadata": {
        "id": "EdFP-hIr4HR_"
      },
      "execution_count": null,
      "outputs": []
    }
  ]
}